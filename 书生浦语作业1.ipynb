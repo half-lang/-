{
 "cells": [
  {
   "cell_type": "markdown",
   "metadata": {},
   "source": [
    "# 玩转Demo\n",
    "## 首先配置环境"
   ]
  },
  {
   "cell_type": "code",
   "execution_count": null,
   "metadata": {},
   "outputs": [],
   "source": [
    "bash /root/share/install_conda_env_internlm_base.sh internlm-demo "
   ]
  },
  {
   "cell_type": "markdown",
   "metadata": {},
   "source": [
    "# 运行截图\n",
    "![image](https://cdn.jsdelivr.net/gh/half-lang/img-of-tian@main/image.6sabusxp7o00.webp)"
   ]
  },
  {
   "cell_type": "markdown",
   "metadata": {},
   "source": [
    "## 安装包\n",
    "![image](https://cdn.jsdelivr.net/gh/half-lang/img-of-tian@main/image.zefpkg7drmo.png)\n",
    "## 模型下载\n",
    "![image](https://cdn.jsdelivr.net/gh/half-lang/img-of-tian@main/image.443jp7bpw5a0.webp)\n",
    "## 代码准备\n",
    "![image](https://cdn.jsdelivr.net/gh/half-lang/img-of-tian@main/image.2bsyc851eh7o.webp)\n",
    "## 终端运行\n",
    "![image](https://cdn.jsdelivr.net/gh/half-lang/img-of-tian@main/image.2edetel6qtj4.webp)\n",
    "\n",
    "![image](https://cdn.jsdelivr.net/gh/half-lang/img-of-tian@main/image.1ep8s9pnj6io.webp)\n",
    "## web demo运行\n",
    "\n",
    "![image](https://cdn.jsdelivr.net/gh/half-lang/img-of-tian@main/image.73d7ga20h3k0.png)\n"
   ]
  }
 ],
 "metadata": {
  "language_info": {
   "name": "python"
  }
 },
 "nbformat": 4,
 "nbformat_minor": 2
}
